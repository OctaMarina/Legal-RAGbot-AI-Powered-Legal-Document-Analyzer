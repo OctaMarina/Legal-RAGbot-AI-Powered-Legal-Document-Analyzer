{
 "cells": [
  {
   "metadata": {},
   "cell_type": "markdown",
   "source": "# Configurations",
   "id": "a18de5d0a9997617"
  },
  {
   "metadata": {
    "ExecuteTime": {
     "end_time": "2025-07-28T19:14:05.588669Z",
     "start_time": "2025-07-28T19:14:05.582910Z"
    }
   },
   "cell_type": "code",
   "source": [
    "from dotenv import load_dotenv\n",
    "import os\n",
    "\n",
    "load_dotenv()\n",
    "\n",
    "gemini_key = os.getenv('GOOGLE_API_KEY')"
   ],
   "id": "initial_id",
   "outputs": [],
   "execution_count": 1
  },
  {
   "metadata": {
    "ExecuteTime": {
     "end_time": "2025-07-28T19:14:19.110732Z",
     "start_time": "2025-07-28T19:14:18.383721Z"
    }
   },
   "cell_type": "code",
   "source": [
    "from langchain.chat_models import init_chat_model\n",
    "\n",
    "model = init_chat_model(\"gemini-2.0-flash\", model_provider=\"google_genai\", api_key = gemini_key)"
   ],
   "id": "ae41d30cd3f03dfc",
   "outputs": [],
   "execution_count": 2
  },
  {
   "metadata": {
    "ExecuteTime": {
     "end_time": "2025-07-28T19:14:24.511877Z",
     "start_time": "2025-07-28T19:14:23.430375Z"
    }
   },
   "cell_type": "code",
   "source": "model.invoke('How are you?')",
   "id": "9070550a508e8734",
   "outputs": [
    {
     "data": {
      "text/plain": [
       "AIMessage(content=\"I am doing well, thank you for asking! As a large language model, I don't experience emotions or feelings in the same way humans do, but I am functioning optimally and ready to assist you with your requests. How can I help you today?\", additional_kwargs={}, response_metadata={'prompt_feedback': {'block_reason': 0, 'safety_ratings': []}, 'finish_reason': 'STOP', 'model_name': 'gemini-2.0-flash', 'safety_ratings': []}, id='run--27cf947c-3fb6-47a9-b14d-dc813d63389f-0', usage_metadata={'input_tokens': 4, 'output_tokens': 53, 'total_tokens': 57, 'input_token_details': {'cache_read': 0}})"
      ]
     },
     "execution_count": 3,
     "metadata": {},
     "output_type": "execute_result"
    }
   ],
   "execution_count": 3
  },
  {
   "metadata": {},
   "cell_type": "markdown",
   "source": "# Document Parsing",
   "id": "58028c7bf0a995f2"
  },
  {
   "metadata": {
    "ExecuteTime": {
     "end_time": "2025-07-28T19:15:49.830020Z",
     "start_time": "2025-07-28T19:15:49.555271Z"
    }
   },
   "cell_type": "code",
   "source": [
    "from typing import List\n",
    "from langchain_core.documents import Document\n",
    "import os\n",
    "import pandas as pd"
   ],
   "id": "9266074586ad63e1",
   "outputs": [],
   "execution_count": 5
  },
  {
   "metadata": {
    "ExecuteTime": {
     "end_time": "2025-07-28T19:16:10.279850Z",
     "start_time": "2025-07-28T19:16:10.234202Z"
    }
   },
   "cell_type": "code",
   "source": "data = pd.read_csv('../data/Wikipedia Crypto Articles.csv')",
   "id": "ed358410bcd9a90",
   "outputs": [],
   "execution_count": 6
  },
  {
   "metadata": {
    "ExecuteTime": {
     "end_time": "2025-07-28T19:22:54.858198Z",
     "start_time": "2025-07-28T19:22:54.855835Z"
    }
   },
   "cell_type": "code",
   "source": "data.shape",
   "id": "53cc936212380db8",
   "outputs": [
    {
     "data": {
      "text/plain": [
       "(218, 2)"
      ]
     },
     "execution_count": 22,
     "metadata": {},
     "output_type": "execute_result"
    }
   ],
   "execution_count": 22
  },
  {
   "metadata": {
    "ExecuteTime": {
     "end_time": "2025-07-28T19:16:15.202105Z",
     "start_time": "2025-07-28T19:16:15.193834Z"
    }
   },
   "cell_type": "code",
   "source": "data.head()",
   "id": "849518bef18423c1",
   "outputs": [
    {
     "data": {
      "text/plain": [
       "                           title  \\\n",
       "0                 Cryptocurrency   \n",
       "1                        Bitcoin   \n",
       "2               Digital currency   \n",
       "3  Central bank digital currency   \n",
       "4                       Litecoin   \n",
       "\n",
       "                                             article  \n",
       "0  A cryptocurrency, crypto-currency, or crypto i...  \n",
       "1  Bitcoin (abbreviation: BTC or XBT; sign: ₿) is...  \n",
       "2  Digital currency (digital money, electronic mo...  \n",
       "3  A central bank digital currency (CBDC; also ca...  \n",
       "4  Litecoin (Abbreviation: LTC; sign: Ł) is a dec...  "
      ],
      "text/html": [
       "<div>\n",
       "<style scoped>\n",
       "    .dataframe tbody tr th:only-of-type {\n",
       "        vertical-align: middle;\n",
       "    }\n",
       "\n",
       "    .dataframe tbody tr th {\n",
       "        vertical-align: top;\n",
       "    }\n",
       "\n",
       "    .dataframe thead th {\n",
       "        text-align: right;\n",
       "    }\n",
       "</style>\n",
       "<table border=\"1\" class=\"dataframe\">\n",
       "  <thead>\n",
       "    <tr style=\"text-align: right;\">\n",
       "      <th></th>\n",
       "      <th>title</th>\n",
       "      <th>article</th>\n",
       "    </tr>\n",
       "  </thead>\n",
       "  <tbody>\n",
       "    <tr>\n",
       "      <th>0</th>\n",
       "      <td>Cryptocurrency</td>\n",
       "      <td>A cryptocurrency, crypto-currency, or crypto i...</td>\n",
       "    </tr>\n",
       "    <tr>\n",
       "      <th>1</th>\n",
       "      <td>Bitcoin</td>\n",
       "      <td>Bitcoin (abbreviation: BTC or XBT; sign: ₿) is...</td>\n",
       "    </tr>\n",
       "    <tr>\n",
       "      <th>2</th>\n",
       "      <td>Digital currency</td>\n",
       "      <td>Digital currency (digital money, electronic mo...</td>\n",
       "    </tr>\n",
       "    <tr>\n",
       "      <th>3</th>\n",
       "      <td>Central bank digital currency</td>\n",
       "      <td>A central bank digital currency (CBDC; also ca...</td>\n",
       "    </tr>\n",
       "    <tr>\n",
       "      <th>4</th>\n",
       "      <td>Litecoin</td>\n",
       "      <td>Litecoin (Abbreviation: LTC; sign: Ł) is a dec...</td>\n",
       "    </tr>\n",
       "  </tbody>\n",
       "</table>\n",
       "</div>"
      ]
     },
     "execution_count": 7,
     "metadata": {},
     "output_type": "execute_result"
    }
   ],
   "execution_count": 7
  },
  {
   "metadata": {
    "ExecuteTime": {
     "end_time": "2025-07-28T19:20:05.435473Z",
     "start_time": "2025-07-28T19:20:05.431137Z"
    }
   },
   "cell_type": "code",
   "source": "data.isna().any(axis=1).sum()",
   "id": "8bc1e5b37cfb6a48",
   "outputs": [
    {
     "data": {
      "text/plain": [
       "np.int64(9)"
      ]
     },
     "execution_count": 12,
     "metadata": {},
     "output_type": "execute_result"
    }
   ],
   "execution_count": 12
  },
  {
   "metadata": {
    "ExecuteTime": {
     "end_time": "2025-07-28T19:20:41.674648Z",
     "start_time": "2025-07-28T19:20:41.670585Z"
    }
   },
   "cell_type": "code",
   "source": [
    "# Remove NaNs\n",
    "data = data.dropna()"
   ],
   "id": "fbd988b7b30e40ca",
   "outputs": [],
   "execution_count": 15
  },
  {
   "metadata": {
    "ExecuteTime": {
     "end_time": "2025-07-28T19:20:42.176944Z",
     "start_time": "2025-07-28T19:20:42.172010Z"
    }
   },
   "cell_type": "code",
   "source": "data.isna().any(axis=1).sum()",
   "id": "153fff05a761b4a7",
   "outputs": [
    {
     "data": {
      "text/plain": [
       "np.int64(0)"
      ]
     },
     "execution_count": 16,
     "metadata": {},
     "output_type": "execute_result"
    }
   ],
   "execution_count": 16
  },
  {
   "metadata": {
    "ExecuteTime": {
     "end_time": "2025-07-28T19:20:44.788560Z",
     "start_time": "2025-07-28T19:20:44.779192Z"
    }
   },
   "cell_type": "code",
   "source": [
    "documents = [\n",
    "    Document(\n",
    "        page_content=row['article'],\n",
    "        metadata={\"title\": row['title']}\n",
    "    )\n",
    "    for _, row in data.iterrows()\n",
    "]"
   ],
   "id": "86d23ba4193e5f3b",
   "outputs": [],
   "execution_count": 17
  },
  {
   "metadata": {
    "ExecuteTime": {
     "end_time": "2025-07-28T19:20:53.258616Z",
     "start_time": "2025-07-28T19:20:53.254030Z"
    }
   },
   "cell_type": "code",
   "source": "len(documents)",
   "id": "8392a86096e2d2c1",
   "outputs": [
    {
     "data": {
      "text/plain": [
       "218"
      ]
     },
     "execution_count": 18,
     "metadata": {},
     "output_type": "execute_result"
    }
   ],
   "execution_count": 18
  },
  {
   "metadata": {
    "ExecuteTime": {
     "end_time": "2025-07-28T19:21:56.289097Z",
     "start_time": "2025-07-28T19:21:56.286828Z"
    }
   },
   "cell_type": "code",
   "source": [
    "text_splitter = RecursiveCharacterTextSplitter(\n",
    "    chunk_size=1000,\n",
    "    chunk_overlap=200,\n",
    "    length_function=len\n",
    ")"
   ],
   "id": "c90f000e623b033e",
   "outputs": [],
   "execution_count": 19
  },
  {
   "metadata": {
    "ExecuteTime": {
     "end_time": "2025-07-28T19:22:15.339230Z",
     "start_time": "2025-07-28T19:22:15.247799Z"
    }
   },
   "cell_type": "code",
   "source": "splits = text_splitter.split_documents(documents)",
   "id": "58413104a6de6aae",
   "outputs": [],
   "execution_count": 20
  },
  {
   "metadata": {
    "ExecuteTime": {
     "end_time": "2025-07-28T19:22:18.995672Z",
     "start_time": "2025-07-28T19:22:18.993890Z"
    }
   },
   "cell_type": "code",
   "source": "print(f\"Split the documents into {len(splits)} chunks.\")",
   "id": "ba40bc7fd72357c8",
   "outputs": [
    {
     "name": "stdout",
     "output_type": "stream",
     "text": [
      "Split the documents into 2894 chunks.\n"
     ]
    }
   ],
   "execution_count": 21
  },
  {
   "metadata": {},
   "cell_type": "markdown",
   "source": "# Create the embeddings for the rag system",
   "id": "e31ed18b6218c65"
  },
  {
   "metadata": {
    "ExecuteTime": {
     "end_time": "2025-07-28T19:29:29.050550Z",
     "start_time": "2025-07-28T19:29:20.322641Z"
    }
   },
   "cell_type": "code",
   "source": [
    "from langchain_community.embeddings.sentence_transformer import SentenceTransformerEmbeddings\n",
    "\n",
    "embedding_function = SentenceTransformerEmbeddings(model_name=\"all-MiniLM-L6-v2\")\n",
    "document_embeddings = embedding_function.embed_documents([split.page_content for split in splits])\n",
    "print(document_embeddings[0][:5])"
   ],
   "id": "ebdc5d9d0dd03e86",
   "outputs": [
    {
     "name": "stderr",
     "output_type": "stream",
     "text": [
      "/Users/octamarina/miniconda3/envs/Langchain/lib/python3.12/site-packages/torch/nn/modules/module.py:1762: FutureWarning: `encoder_attention_mask` is deprecated and will be removed in version 4.55.0 for `BertSdpaSelfAttention.forward`.\n",
      "  return forward_call(*args, **kwargs)\n"
     ]
    },
    {
     "name": "stdout",
     "output_type": "stream",
     "text": [
      "[-0.030076615512371063, 0.020071297883987427, -0.11568485200405121, -0.019832484424114227, -0.00924318190664053]\n"
     ]
    }
   ],
   "execution_count": 24
  },
  {
   "metadata": {},
   "cell_type": "markdown",
   "source": "# Setting up the vector store for RAG System",
   "id": "d1b4633633f1e1d5"
  },
  {
   "metadata": {
    "ExecuteTime": {
     "end_time": "2025-07-28T19:29:41.524614Z",
     "start_time": "2025-07-28T19:29:33.811078Z"
    }
   },
   "cell_type": "code",
   "source": [
    "from langchain_chroma import Chroma\n",
    "\n",
    "collection_name = \"articles_collection\"\n",
    "vectorstore = Chroma.from_documents(\n",
    "    collection_name=collection_name,\n",
    "    documents=splits,\n",
    "    embedding=embedding_function,\n",
    "    persist_directory=\"./chroma_db\"\n",
    ")\n",
    "print(\"Vector store created and persisted to './chroma_db'\")\n"
   ],
   "id": "684e4bf57c78b4e3",
   "outputs": [
    {
     "name": "stderr",
     "output_type": "stream",
     "text": [
      "/Users/octamarina/miniconda3/envs/Langchain/lib/python3.12/site-packages/torch/nn/modules/module.py:1762: FutureWarning: `encoder_attention_mask` is deprecated and will be removed in version 4.55.0 for `BertSdpaSelfAttention.forward`.\n",
      "  return forward_call(*args, **kwargs)\n"
     ]
    },
    {
     "name": "stdout",
     "output_type": "stream",
     "text": [
      "Vector store created and persisted to './chroma_db'\n"
     ]
    }
   ],
   "execution_count": 25
  },
  {
   "metadata": {
    "ExecuteTime": {
     "end_time": "2025-07-28T19:35:33.925209Z",
     "start_time": "2025-07-28T19:35:32.226004Z"
    }
   },
   "cell_type": "code",
   "source": [
    "query = \"What is ethereum\"\n",
    "search_results = vectorstore.similarity_search(query, k=2)\n",
    "print(f\"\\nTop 2 most relevant chunks for the query: '{query}'\\n\")\n",
    "for i, result in enumerate(search_results, 1):\n",
    "    print(f\"Result {i}:\")\n",
    "    print(f\"Source: {result.metadata.get('source', 'Unknown')}\")\n",
    "    print(f\"Content: {result.page_content}\")\n",
    "    print()"
   ],
   "id": "81ce133823dfd198",
   "outputs": [
    {
     "name": "stderr",
     "output_type": "stream",
     "text": [
      "/Users/octamarina/miniconda3/envs/Langchain/lib/python3.12/site-packages/torch/nn/modules/module.py:1762: FutureWarning: `encoder_attention_mask` is deprecated and will be removed in version 4.55.0 for `BertSdpaSelfAttention.forward`.\n",
      "  return forward_call(*args, **kwargs)\n"
     ]
    },
    {
     "name": "stdout",
     "output_type": "stream",
     "text": [
      "\n",
      "Top 2 most relevant chunks for the query: 'What is ethereum'\n",
      "\n",
      "Result 1:\n",
      "Source: Unknown\n",
      "Content: Ethereum is a decentralized blockchain with smart contract functionality. Ether (Abbreviation: ETH;  sign: Ξ) is the native cryptocurrency of the platform. Among cryptocurrencies, ether is second only to bitcoin in market capitalization. It is open-source software.\n",
      "\n",
      "Result 2:\n",
      "Source: Unknown\n",
      "Content: === Ethereum ===\n",
      "\n"
     ]
    }
   ],
   "execution_count": 26
  },
  {
   "metadata": {},
   "cell_type": "markdown",
   "source": "# Building the RAG chain",
   "id": "4e17384b10504f83"
  },
  {
   "metadata": {
    "ExecuteTime": {
     "end_time": "2025-07-28T20:20:15.219015Z",
     "start_time": "2025-07-28T20:20:15.212608Z"
    }
   },
   "cell_type": "code",
   "source": [
    "from langchain_core.prompts import ChatPromptTemplate\n",
    "from langchain.schema.runnable import RunnablePassthrough\n",
    "from langchain_core.output_parsers import StrOutputParser"
   ],
   "id": "635c6c624c4a8fc0",
   "outputs": [],
   "execution_count": 31
  },
  {
   "metadata": {
    "ExecuteTime": {
     "end_time": "2025-07-28T20:20:15.375898Z",
     "start_time": "2025-07-28T20:20:15.373155Z"
    }
   },
   "cell_type": "code",
   "source": [
    "# Creating the retriever\n",
    "retriever = vectorstore.as_retriever(search_kwargs={\"k\": 2})"
   ],
   "id": "708c887a4d1b0429",
   "outputs": [],
   "execution_count": 32
  },
  {
   "metadata": {
    "ExecuteTime": {
     "end_time": "2025-07-28T20:20:15.537928Z",
     "start_time": "2025-07-28T20:20:15.536147Z"
    }
   },
   "cell_type": "code",
   "source": [
    "template = \"\"\"Answer the question based only on the following context:\n",
    "{context}\n",
    "Question: {question}\n",
    "Answer: \"\"\""
   ],
   "id": "a8bf0acc1ad7be16",
   "outputs": [],
   "execution_count": 33
  },
  {
   "metadata": {
    "ExecuteTime": {
     "end_time": "2025-07-28T20:20:15.711285Z",
     "start_time": "2025-07-28T20:20:15.697468Z"
    }
   },
   "cell_type": "code",
   "source": "prompt = ChatPromptTemplate.from_template(template)",
   "id": "f0c17451ca19bd7c",
   "outputs": [],
   "execution_count": 34
  },
  {
   "metadata": {
    "ExecuteTime": {
     "end_time": "2025-07-28T20:20:15.872893Z",
     "start_time": "2025-07-28T20:20:15.870805Z"
    }
   },
   "cell_type": "code",
   "source": [
    "def docs2str(docs):\n",
    "    return \"\\n\\n\".join(doc.page_content for doc in docs)"
   ],
   "id": "e277fc1e34efb2ea",
   "outputs": [],
   "execution_count": 35
  },
  {
   "metadata": {
    "ExecuteTime": {
     "end_time": "2025-07-28T20:20:16.230619Z",
     "start_time": "2025-07-28T20:20:16.228444Z"
    }
   },
   "cell_type": "code",
   "source": [
    "rag_chain = (\n",
    "    {\"context\": retriever | docs2str, \"question\": RunnablePassthrough()}\n",
    "    | prompt\n",
    "    | model\n",
    "    | StrOutputParser()\n",
    ")"
   ],
   "id": "9cd56276f64b18c1",
   "outputs": [],
   "execution_count": 36
  },
  {
   "metadata": {
    "ExecuteTime": {
     "end_time": "2025-07-28T20:30:43.851122Z",
     "start_time": "2025-07-28T20:30:43.176940Z"
    }
   },
   "cell_type": "code",
   "source": [
    "# Testing the rag chain\n",
    "question = \"Tell me something about ethereum\"\n",
    "docs = retriever.invoke(question)\n",
    "response = rag_chain.invoke(question)\n",
    "print(f\"Question: {question}\")\n",
    "print(f\"Answer: {response}\")"
   ],
   "id": "b2b601268a78e78",
   "outputs": [
    {
     "name": "stderr",
     "output_type": "stream",
     "text": [
      "/Users/octamarina/miniconda3/envs/Langchain/lib/python3.12/site-packages/torch/nn/modules/module.py:1762: FutureWarning: `encoder_attention_mask` is deprecated and will be removed in version 4.55.0 for `BertSdpaSelfAttention.forward`.\n",
      "  return forward_call(*args, **kwargs)\n",
      "/Users/octamarina/miniconda3/envs/Langchain/lib/python3.12/site-packages/torch/nn/modules/module.py:1762: FutureWarning: `encoder_attention_mask` is deprecated and will be removed in version 4.55.0 for `BertSdpaSelfAttention.forward`.\n",
      "  return forward_call(*args, **kwargs)\n"
     ]
    },
    {
     "name": "stdout",
     "output_type": "stream",
     "text": [
      "Question: Tell me something about ethereum\n",
      "Answer: Ethereum is a decentralized blockchain with smart contract functionality.\n"
     ]
    }
   ],
   "execution_count": 50
  },
  {
   "metadata": {
    "ExecuteTime": {
     "end_time": "2025-07-28T20:23:53.818876Z",
     "start_time": "2025-07-28T20:23:53.816154Z"
    }
   },
   "cell_type": "code",
   "source": [
    "print(\"\\n--- Context used (sources) ---\")\n",
    "for i, doc in enumerate(docs, 1):\n",
    "    title = doc.metadata.get(\"title\", \"Unknown source\")\n",
    "    print(f\"\\n📄 Document {i} (Title: {title}):\\n{doc.page_content[:500]}...\\n\")"
   ],
   "id": "2114e1cfeec8a623",
   "outputs": [
    {
     "name": "stdout",
     "output_type": "stream",
     "text": [
      "\n",
      "--- Context used (sources) ---\n",
      "\n",
      "📄 Document 1 (Title: Vitalik Buterin):\n",
      "=== Ethereum ===...\n",
      "\n",
      "\n",
      "📄 Document 2 (Title: Ethereum):\n",
      "Ethereum is a decentralized blockchain with smart contract functionality. Ether (Abbreviation: ETH;  sign: Ξ) is the native cryptocurrency of the platform. Among cryptocurrencies, ether is second only to bitcoin in market capitalization. It is open-source software....\n",
      "\n"
     ]
    }
   ],
   "execution_count": 42
  },
  {
   "metadata": {},
   "cell_type": "markdown",
   "source": "# Handling follow up questions",
   "id": "e102f55a57965ee8"
  },
  {
   "metadata": {
    "ExecuteTime": {
     "end_time": "2025-07-28T20:30:49.580334Z",
     "start_time": "2025-07-28T20:30:49.576784Z"
    }
   },
   "cell_type": "code",
   "source": [
    "from langchain_core.prompts import MessagesPlaceholder\n",
    "from langchain.chains import create_history_aware_retriever\n",
    "from langchain.chains.combine_documents import create_stuff_documents_chain"
   ],
   "id": "2fbb92a0e312b554",
   "outputs": [],
   "execution_count": 51
  },
  {
   "metadata": {
    "ExecuteTime": {
     "end_time": "2025-07-28T20:30:49.955959Z",
     "start_time": "2025-07-28T20:30:49.953042Z"
    }
   },
   "cell_type": "code",
   "source": [
    "contextualize_q_system_prompt = \"\"\"\n",
    "Given a chat history and the latest user question\n",
    "which might reference context in the chat history,\n",
    "formulate a standalone question which can be understood\n",
    "without the chat history. Do NOT answer the question,\n",
    "just reformulate it if needed and otherwise return it as is.\n",
    "\"\"\""
   ],
   "id": "35816b0a7d28a2ec",
   "outputs": [],
   "execution_count": 52
  },
  {
   "metadata": {
    "ExecuteTime": {
     "end_time": "2025-07-28T20:30:54.488258Z",
     "start_time": "2025-07-28T20:30:54.484796Z"
    }
   },
   "cell_type": "code",
   "source": [
    "contextualize_q_prompt = ChatPromptTemplate.from_messages(\n",
    "    [\n",
    "        (\"system\", contextualize_q_system_prompt),\n",
    "        MessagesPlaceholder(\"chat_history\"),\n",
    "        (\"human\", \"{input}\"),\n",
    "    ]\n",
    ")"
   ],
   "id": "802ddca556d64e9c",
   "outputs": [],
   "execution_count": 53
  },
  {
   "metadata": {
    "ExecuteTime": {
     "end_time": "2025-07-28T20:30:55.777035Z",
     "start_time": "2025-07-28T20:30:55.134512Z"
    }
   },
   "cell_type": "code",
   "source": [
    "contextualize_chain = contextualize_q_prompt | model | StrOutputParser()\n",
    "print(contextualize_chain.invoke({\"input\": \"What about its fees?\", \"chat_history\": []}))"
   ],
   "id": "193ef3aa57f72b20",
   "outputs": [
    {
     "name": "stdout",
     "output_type": "stream",
     "text": [
      "What are the fees associated with the product or service being discussed?\n"
     ]
    }
   ],
   "execution_count": 54
  },
  {
   "metadata": {
    "ExecuteTime": {
     "end_time": "2025-07-28T20:31:18.329262Z",
     "start_time": "2025-07-28T20:31:18.319456Z"
    }
   },
   "cell_type": "code",
   "source": [
    "from langchain.chains.retrieval import create_retrieval_chain\n",
    "\n",
    "history_aware_retriever = create_history_aware_retriever(\n",
    "    model, retriever, contextualize_q_prompt\n",
    ")\n",
    "\n",
    "qa_prompt = ChatPromptTemplate.from_messages([\n",
    "    (\"system\", \"You are a helpful AI assistant. Use the following context to answer the user's question.\"),\n",
    "    (\"system\", \"Context: {context}\"),\n",
    "    MessagesPlaceholder(variable_name=\"chat_history\"),\n",
    "    (\"human\", \"{input}\")\n",
    "])\n",
    "\n",
    "question_answer_chain = create_stuff_documents_chain(model, qa_prompt)\n",
    "rag_chain = create_retrieval_chain(history_aware_retriever, question_answer_chain)\n"
   ],
   "id": "e565114932418cb1",
   "outputs": [],
   "execution_count": 55
  },
  {
   "metadata": {
    "ExecuteTime": {
     "end_time": "2025-07-28T20:32:46.660773Z",
     "start_time": "2025-07-28T20:32:44.276376Z"
    }
   },
   "cell_type": "code",
   "source": [
    "from langchain_core.messages import HumanMessage, AIMessage\n",
    "\n",
    "chat_history = []\n",
    "question1 = \"What is ethereum\"\n",
    "answer1 = rag_chain.invoke({\"input\": question1, \"chat_history\": chat_history})['answer']\n",
    "chat_history.extend([\n",
    "    HumanMessage(content=question1),\n",
    "    AIMessage(content=answer1)\n",
    "])\n",
    "\n",
    "print(f\"Human: {question1}\")\n",
    "print(f\"AI: {answer1}\\n\")\n",
    "\n",
    "question2 = \"What about its fees?\"\n",
    "answer2 = rag_chain.invoke({\"input\": question2, \"chat_history\": chat_history})['answer']\n",
    "chat_history.extend([\n",
    "    HumanMessage(content=question2),\n",
    "    AIMessage(content=answer2)\n",
    "])\n",
    "\n",
    "print(f\"Human: {question2}\")\n",
    "print(f\"AI: {answer2}\")\n"
   ],
   "id": "bf3975682c8f3974",
   "outputs": [
    {
     "name": "stderr",
     "output_type": "stream",
     "text": [
      "/Users/octamarina/miniconda3/envs/Langchain/lib/python3.12/site-packages/torch/nn/modules/module.py:1762: FutureWarning: `encoder_attention_mask` is deprecated and will be removed in version 4.55.0 for `BertSdpaSelfAttention.forward`.\n",
      "  return forward_call(*args, **kwargs)\n"
     ]
    },
    {
     "name": "stdout",
     "output_type": "stream",
     "text": [
      "Human: What is ethereum\n",
      "AI: Ethereum is a decentralized blockchain with smart contract functionality. Ether (ETH) is the native cryptocurrency of the platform and is second only to bitcoin in market capitalization. It is open-source software.\n",
      "\n"
     ]
    },
    {
     "name": "stderr",
     "output_type": "stream",
     "text": [
      "/Users/octamarina/miniconda3/envs/Langchain/lib/python3.12/site-packages/torch/nn/modules/module.py:1762: FutureWarning: `encoder_attention_mask` is deprecated and will be removed in version 4.55.0 for `BertSdpaSelfAttention.forward`.\n",
      "  return forward_call(*args, **kwargs)\n"
     ]
    },
    {
     "name": "stdout",
     "output_type": "stream",
     "text": [
      "Human: What about its fees?\n",
      "AI: For Ethereum, transaction fees differ by computational complexity, bandwidth use, and storage needs. In February 2023, the median transaction fee for Ether corresponded to $2.2845.\n"
     ]
    }
   ],
   "execution_count": 56
  }
 ],
 "metadata": {
  "kernelspec": {
   "display_name": "Python 3",
   "language": "python",
   "name": "python3"
  },
  "language_info": {
   "codemirror_mode": {
    "name": "ipython",
    "version": 2
   },
   "file_extension": ".py",
   "mimetype": "text/x-python",
   "name": "python",
   "nbconvert_exporter": "python",
   "pygments_lexer": "ipython2",
   "version": "2.7.6"
  }
 },
 "nbformat": 4,
 "nbformat_minor": 5
}
